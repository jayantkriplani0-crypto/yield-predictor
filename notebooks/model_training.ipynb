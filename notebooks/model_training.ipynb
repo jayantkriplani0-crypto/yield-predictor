{
  "cells": [
    {
      "cell_type": "markdown",
      "metadata": {},
      "source": [
        "# AI-Powered Crop Yield Prediction - Model Training\n",
        "\n",
        "This notebook demonstrates the complete pipeline for training crop yield prediction models using synthetic agricultural data.\n",
        "\n",
        "## Overview\n",
        "- Load and explore crop yield data\n",
        "- Preprocess features (normalize per hectare, encode categoricals)\n",
        "- Train multiple models (Random Forest, XGBoost)\n",
        "- Evaluate performance and save best model\n",
        "- Generate feature importance plots\n"
      ]
    },
    {
      "cell_type": "code",
      "execution_count": 1,
      "metadata": {},
      "outputs": [
        {
          "name": "stdout",
          "output_type": "stream",
          "text": [
            "Libraries imported successfully!\n"
          ]
        }
      ],
      "source": [
        "# Import required libraries\n",
        "import pandas as pd\n",
        "import numpy as np\n",
        "import matplotlib.pyplot as plt\n",
        "import seaborn as sns\n",
        "from sklearn.model_selection import train_test_split, cross_val_score\n",
        "from sklearn.ensemble import RandomForestRegressor\n",
        "from sklearn.preprocessing import StandardScaler, OneHotEncoder\n",
        "from sklearn.compose import ColumnTransformer\n",
        "from sklearn.pipeline import Pipeline\n",
        "from sklearn.metrics import mean_absolute_error, mean_squared_error, r2_score\n",
        "import xgboost as xgb\n",
        "import joblib\n",
        "import shap\n",
        "import warnings\n",
        "warnings.filterwarnings('ignore')\n",
        "\n",
        "# Set random seed for reproducibility\n",
        "np.random.seed(42)\n",
        "\n",
        "print(\"Libraries imported successfully!\")\n"
      ]
    },
    {
      "cell_type": "markdown",
      "metadata": {},
      "source": [
        "## 1. Load and Explore Data\n"
      ]
    },
    {
      "cell_type": "code",
      "execution_count": 2,
      "metadata": {},
      "outputs": [
        {
          "name": "stdout",
          "output_type": "stream",
          "text": [
            "Dataset shape: (6233, 15)\n",
            "\n",
            "First 5 rows:\n"
          ]
        },
        {
          "data": {
            "text/html": [
              "<div>\n",
              "<style scoped>\n",
              "    .dataframe tbody tr th:only-of-type {\n",
              "        vertical-align: middle;\n",
              "    }\n",
              "\n",
              "    .dataframe tbody tr th {\n",
              "        vertical-align: top;\n",
              "    }\n",
              "\n",
              "    .dataframe thead th {\n",
              "        text-align: right;\n",
              "    }\n",
              "</style>\n",
              "<table border=\"1\" class=\"dataframe\">\n",
              "  <thead>\n",
              "    <tr style=\"text-align: right;\">\n",
              "      <th></th>\n",
              "      <th>year</th>\n",
              "      <th>state</th>\n",
              "      <th>district</th>\n",
              "      <th>crop</th>\n",
              "      <th>season</th>\n",
              "      <th>soil_type</th>\n",
              "      <th>irrigation</th>\n",
              "      <th>seed_variety</th>\n",
              "      <th>area</th>\n",
              "      <th>rainfall</th>\n",
              "      <th>temperature</th>\n",
              "      <th>fertilizer</th>\n",
              "      <th>pesticide</th>\n",
              "      <th>production</th>\n",
              "      <th>yield</th>\n",
              "    </tr>\n",
              "  </thead>\n",
              "  <tbody>\n",
              "    <tr>\n",
              "      <th>0</th>\n",
              "      <td>1997</td>\n",
              "      <td>Odisha</td>\n",
              "      <td>Sundargarh</td>\n",
              "      <td>Arhar/Tur</td>\n",
              "      <td>Autumn</td>\n",
              "      <td>Mixed Red &amp; Yellow</td>\n",
              "      <td>Lift</td>\n",
              "      <td>Local</td>\n",
              "      <td>25621.0</td>\n",
              "      <td>1496.6</td>\n",
              "      <td>21.890000</td>\n",
              "      <td>2438350.57</td>\n",
              "      <td>7942.51</td>\n",
              "      <td>6487.0</td>\n",
              "      <td>0.202778</td>\n",
              "    </tr>\n",
              "    <tr>\n",
              "      <th>1</th>\n",
              "      <td>1997</td>\n",
              "      <td>Odisha</td>\n",
              "      <td>Sundargarh</td>\n",
              "      <td>Arhar/Tur</td>\n",
              "      <td>Summer</td>\n",
              "      <td>Mixed Red &amp; Yellow</td>\n",
              "      <td>Lift</td>\n",
              "      <td>Local</td>\n",
              "      <td>86559.0</td>\n",
              "      <td>1496.6</td>\n",
              "      <td>25.690000</td>\n",
              "      <td>8237820.03</td>\n",
              "      <td>26833.29</td>\n",
              "      <td>16414.0</td>\n",
              "      <td>0.216786</td>\n",
              "    </tr>\n",
              "    <tr>\n",
              "      <th>2</th>\n",
              "      <td>1997</td>\n",
              "      <td>Odisha</td>\n",
              "      <td>Sundargarh</td>\n",
              "      <td>Arhar/Tur</td>\n",
              "      <td>Winter</td>\n",
              "      <td>Mixed Red &amp; Yellow</td>\n",
              "      <td>Lift</td>\n",
              "      <td>Hybrid</td>\n",
              "      <td>116553.0</td>\n",
              "      <td>1496.6</td>\n",
              "      <td>19.876667</td>\n",
              "      <td>11092349.01</td>\n",
              "      <td>36131.43</td>\n",
              "      <td>23305.0</td>\n",
              "      <td>0.198929</td>\n",
              "    </tr>\n",
              "    <tr>\n",
              "      <th>3</th>\n",
              "      <td>1997</td>\n",
              "      <td>Odisha</td>\n",
              "      <td>Sundargarh</td>\n",
              "      <td>Groundnut</td>\n",
              "      <td>Autumn</td>\n",
              "      <td>Mixed Red &amp; Yellow</td>\n",
              "      <td>Tubewell</td>\n",
              "      <td>Hybrid</td>\n",
              "      <td>37462.0</td>\n",
              "      <td>1496.6</td>\n",
              "      <td>21.890000</td>\n",
              "      <td>3565258.54</td>\n",
              "      <td>11613.22</td>\n",
              "      <td>34433.0</td>\n",
              "      <td>0.840435</td>\n",
              "    </tr>\n",
              "    <tr>\n",
              "      <th>4</th>\n",
              "      <td>1997</td>\n",
              "      <td>Odisha</td>\n",
              "      <td>Sundargarh</td>\n",
              "      <td>Groundnut</td>\n",
              "      <td>Summer</td>\n",
              "      <td>Lateritic</td>\n",
              "      <td>Lift</td>\n",
              "      <td>Local</td>\n",
              "      <td>39729.0</td>\n",
              "      <td>1496.6</td>\n",
              "      <td>25.690000</td>\n",
              "      <td>3781008.93</td>\n",
              "      <td>12315.99</td>\n",
              "      <td>48815.0</td>\n",
              "      <td>1.211071</td>\n",
              "    </tr>\n",
              "  </tbody>\n",
              "</table>\n",
              "</div>"
            ],
            "text/plain": [
              "   year   state    district       crop  season           soil_type irrigation  \\\n",
              "0  1997  Odisha  Sundargarh  Arhar/Tur  Autumn  Mixed Red & Yellow       Lift   \n",
              "1  1997  Odisha  Sundargarh  Arhar/Tur  Summer  Mixed Red & Yellow       Lift   \n",
              "2  1997  Odisha  Sundargarh  Arhar/Tur  Winter  Mixed Red & Yellow       Lift   \n",
              "3  1997  Odisha  Sundargarh  Groundnut  Autumn  Mixed Red & Yellow   Tubewell   \n",
              "4  1997  Odisha  Sundargarh  Groundnut  Summer           Lateritic       Lift   \n",
              "\n",
              "  seed_variety      area  rainfall  temperature   fertilizer  pesticide  \\\n",
              "0        Local   25621.0    1496.6    21.890000   2438350.57    7942.51   \n",
              "1        Local   86559.0    1496.6    25.690000   8237820.03   26833.29   \n",
              "2       Hybrid  116553.0    1496.6    19.876667  11092349.01   36131.43   \n",
              "3       Hybrid   37462.0    1496.6    21.890000   3565258.54   11613.22   \n",
              "4        Local   39729.0    1496.6    25.690000   3781008.93   12315.99   \n",
              "\n",
              "   production     yield  \n",
              "0      6487.0  0.202778  \n",
              "1     16414.0  0.216786  \n",
              "2     23305.0  0.198929  \n",
              "3     34433.0  0.840435  \n",
              "4     48815.0  1.211071  "
            ]
          },
          "execution_count": 2,
          "metadata": {},
          "output_type": "execute_result"
        }
      ],
      "source": [
        "# Load the dataset\n",
        "df = pd.read_csv('../data/processed/Final_Odisha_Crops.csv')\n",
        "\n",
        "print(\"Dataset shape:\", df.shape)\n",
        "print(\"\\nFirst 5 rows:\")\n",
        "df.head()\n"
      ]
    },
    {
      "cell_type": "code",
      "execution_count": 3,
      "metadata": {},
      "outputs": [
        {
          "name": "stdout",
          "output_type": "stream",
          "text": [
            "Dataset Info:\n",
            "<class 'pandas.core.frame.DataFrame'>\n",
            "RangeIndex: 6233 entries, 0 to 6232\n",
            "Data columns (total 15 columns):\n",
            " #   Column        Non-Null Count  Dtype  \n",
            "---  ------        --------------  -----  \n",
            " 0   year          6233 non-null   int64  \n",
            " 1   state         6233 non-null   object \n",
            " 2   district      6233 non-null   object \n",
            " 3   crop          6233 non-null   object \n",
            " 4   season        6233 non-null   object \n",
            " 5   soil_type     6233 non-null   object \n",
            " 6   irrigation    5607 non-null   object \n",
            " 7   seed_variety  6233 non-null   object \n",
            " 8   area          6233 non-null   float64\n",
            " 9   rainfall      6233 non-null   float64\n",
            " 10  temperature   6233 non-null   float64\n",
            " 11  fertilizer    6233 non-null   float64\n",
            " 12  pesticide     6233 non-null   float64\n",
            " 13  production    6233 non-null   float64\n",
            " 14  yield         6233 non-null   float64\n",
            "dtypes: float64(7), int64(1), object(7)\n",
            "memory usage: 730.6+ KB\n",
            "\n",
            "Dataset Description:\n"
          ]
        },
        {
          "data": {
            "text/html": [
              "<div>\n",
              "<style scoped>\n",
              "    .dataframe tbody tr th:only-of-type {\n",
              "        vertical-align: middle;\n",
              "    }\n",
              "\n",
              "    .dataframe tbody tr th {\n",
              "        vertical-align: top;\n",
              "    }\n",
              "\n",
              "    .dataframe thead th {\n",
              "        text-align: right;\n",
              "    }\n",
              "</style>\n",
              "<table border=\"1\" class=\"dataframe\">\n",
              "  <thead>\n",
              "    <tr style=\"text-align: right;\">\n",
              "      <th></th>\n",
              "      <th>year</th>\n",
              "      <th>area</th>\n",
              "      <th>rainfall</th>\n",
              "      <th>temperature</th>\n",
              "      <th>fertilizer</th>\n",
              "      <th>pesticide</th>\n",
              "      <th>production</th>\n",
              "      <th>yield</th>\n",
              "    </tr>\n",
              "  </thead>\n",
              "  <tbody>\n",
              "    <tr>\n",
              "      <th>count</th>\n",
              "      <td>6233.000000</td>\n",
              "      <td>6.233000e+03</td>\n",
              "      <td>6233.000000</td>\n",
              "      <td>6233.000000</td>\n",
              "      <td>6.233000e+03</td>\n",
              "      <td>6.233000e+03</td>\n",
              "      <td>6.233000e+03</td>\n",
              "      <td>6233.000000</td>\n",
              "    </tr>\n",
              "    <tr>\n",
              "      <th>mean</th>\n",
              "      <td>2017.641906</td>\n",
              "      <td>2.000027e+04</td>\n",
              "      <td>668.228686</td>\n",
              "      <td>23.060521</td>\n",
              "      <td>4.725997e+06</td>\n",
              "      <td>9.743218e+03</td>\n",
              "      <td>4.473224e+04</td>\n",
              "      <td>9574.502222</td>\n",
              "    </tr>\n",
              "    <tr>\n",
              "      <th>std</th>\n",
              "      <td>5.003573</td>\n",
              "      <td>2.365176e+05</td>\n",
              "      <td>551.494605</td>\n",
              "      <td>0.922289</td>\n",
              "      <td>3.230913e+07</td>\n",
              "      <td>6.589797e+04</td>\n",
              "      <td>3.568780e+05</td>\n",
              "      <td>23434.618531</td>\n",
              "    </tr>\n",
              "    <tr>\n",
              "      <th>min</th>\n",
              "      <td>1997.000000</td>\n",
              "      <td>5.000000e-01</td>\n",
              "      <td>50.000000</td>\n",
              "      <td>19.876667</td>\n",
              "      <td>4.733500e+03</td>\n",
              "      <td>8.460000e+00</td>\n",
              "      <td>1.000000e+01</td>\n",
              "      <td>0.077333</td>\n",
              "    </tr>\n",
              "    <tr>\n",
              "      <th>25%</th>\n",
              "      <td>2016.000000</td>\n",
              "      <td>1.770000e+00</td>\n",
              "      <td>168.000000</td>\n",
              "      <td>22.945000</td>\n",
              "      <td>2.342137e+06</td>\n",
              "      <td>4.996150e+03</td>\n",
              "      <td>1.548250e+04</td>\n",
              "      <td>1247.000000</td>\n",
              "    </tr>\n",
              "    <tr>\n",
              "      <th>50%</th>\n",
              "      <td>2018.000000</td>\n",
              "      <td>3.070000e+00</td>\n",
              "      <td>286.000000</td>\n",
              "      <td>22.945000</td>\n",
              "      <td>2.342137e+06</td>\n",
              "      <td>4.996150e+03</td>\n",
              "      <td>1.548250e+04</td>\n",
              "      <td>2821.000000</td>\n",
              "    </tr>\n",
              "    <tr>\n",
              "      <th>75%</th>\n",
              "      <td>2021.000000</td>\n",
              "      <td>4.350000e+00</td>\n",
              "      <td>1214.000000</td>\n",
              "      <td>22.945000</td>\n",
              "      <td>2.342137e+06</td>\n",
              "      <td>4.996150e+03</td>\n",
              "      <td>1.548250e+04</td>\n",
              "      <td>4127.000000</td>\n",
              "    </tr>\n",
              "    <tr>\n",
              "      <th>max</th>\n",
              "      <td>2023.000000</td>\n",
              "      <td>8.629000e+06</td>\n",
              "      <td>1716.900000</td>\n",
              "      <td>28.860000</td>\n",
              "      <td>1.301253e+09</td>\n",
              "      <td>2.674990e+06</td>\n",
              "      <td>8.343100e+06</td>\n",
              "      <td>131596.000000</td>\n",
              "    </tr>\n",
              "  </tbody>\n",
              "</table>\n",
              "</div>"
            ],
            "text/plain": [
              "              year          area     rainfall  temperature    fertilizer  \\\n",
              "count  6233.000000  6.233000e+03  6233.000000  6233.000000  6.233000e+03   \n",
              "mean   2017.641906  2.000027e+04   668.228686    23.060521  4.725997e+06   \n",
              "std       5.003573  2.365176e+05   551.494605     0.922289  3.230913e+07   \n",
              "min    1997.000000  5.000000e-01    50.000000    19.876667  4.733500e+03   \n",
              "25%    2016.000000  1.770000e+00   168.000000    22.945000  2.342137e+06   \n",
              "50%    2018.000000  3.070000e+00   286.000000    22.945000  2.342137e+06   \n",
              "75%    2021.000000  4.350000e+00  1214.000000    22.945000  2.342137e+06   \n",
              "max    2023.000000  8.629000e+06  1716.900000    28.860000  1.301253e+09   \n",
              "\n",
              "          pesticide    production          yield  \n",
              "count  6.233000e+03  6.233000e+03    6233.000000  \n",
              "mean   9.743218e+03  4.473224e+04    9574.502222  \n",
              "std    6.589797e+04  3.568780e+05   23434.618531  \n",
              "min    8.460000e+00  1.000000e+01       0.077333  \n",
              "25%    4.996150e+03  1.548250e+04    1247.000000  \n",
              "50%    4.996150e+03  1.548250e+04    2821.000000  \n",
              "75%    4.996150e+03  1.548250e+04    4127.000000  \n",
              "max    2.674990e+06  8.343100e+06  131596.000000  "
            ]
          },
          "execution_count": 3,
          "metadata": {},
          "output_type": "execute_result"
        }
      ],
      "source": [
        "# Basic dataset information\n",
        "print(\"Dataset Info:\")\n",
        "df.info()\n",
        "\n",
        "print(\"\\nDataset Description:\")\n",
        "df.describe()\n"
      ]
    },
    {
      "cell_type": "code",
      "execution_count": 4,
      "metadata": {},
      "outputs": [
        {
          "name": "stdout",
          "output_type": "stream",
          "text": [
            "Missing values:\n",
            "year              0\n",
            "state             0\n",
            "district          0\n",
            "crop              0\n",
            "season            0\n",
            "soil_type         0\n",
            "irrigation      626\n",
            "seed_variety      0\n",
            "area              0\n",
            "rainfall          0\n",
            "temperature       0\n",
            "fertilizer        0\n",
            "pesticide         0\n",
            "production        0\n",
            "yield             0\n",
            "dtype: int64\n",
            "\n",
            "Unique values in categorical columns:\n",
            "state: ['Odisha']\n",
            "district: ['Sundargarh' 'Angul' 'Balangir' 'Balasore' 'Bargarh' 'Bhadrak' 'Boudh'\n",
            " 'Cuttack' 'Deogarh' 'Dhenkanal' 'Gajapati' 'Ganjam' 'Jagatsinghpur'\n",
            " 'Jajpur' 'Jharsuguda' 'Kalahandi' 'Kandhamal' 'Kendrapara' 'Keonjhar'\n",
            " 'Khordha' 'Koraput' 'Malkangiri' 'Mayurbhanj' 'Nabarangpur' 'Nayagarh'\n",
            " 'Nuapada' 'Puri' 'Rayagada' 'Sambalpur' 'Sonepur']\n",
            "crop: ['Arhar/Tur' 'Groundnut' 'Horse-Gram' 'Jute' 'Maize' 'Potato' 'Ragi'\n",
            " 'Sesamum' 'Sugarcane' 'Urad' 'Wheat' 'Moong(Green Gram)'\n",
            " 'Rapeseed &Mustard' 'Rice' 'Bajra' 'Castor Seed' 'Coriander'\n",
            " 'Cotton(Lint)' 'Dry Chillies' 'Garlic' 'Ginger' 'Gram' 'Jowar' 'Linseed'\n",
            " 'Masoor' 'Mesta' 'Niger Seed' 'Onion' 'Safflower' 'Sannhamp'\n",
            " 'Small Millets' 'Soyabean' 'Sunflower' 'Sweet Potato' 'Tobacco'\n",
            " 'Turmeric' 'Other  Rabi Pulses' 'Other Kharif Pulses' 'Cotton' 'Mung'\n",
            " 'Cowpea(Lobia)' 'Peas & Beans (Pulses)']\n",
            "season: ['Autumn' 'Summer' 'Winter' 'Whole Year' 'Rabi' 'Kharif' 'Zaid']\n",
            "soil_type: ['Mixed Red & Yellow' 'Lateritic' 'Red Soil' 'Black Soil' 'Alluvial'\n",
            " 'Coastal Sandy' 'Saline' 'Deltaic Alluvial']\n",
            "irrigation: ['Lift' 'Tubewell' 'Canal' 'Drip' nan]\n",
            "seed_variety: ['Local' 'Hybrid' 'HYV']\n"
          ]
        }
      ],
      "source": [
        "# Check for missing values\n",
        "print(\"Missing values:\")\n",
        "print(df.isnull().sum())\n",
        "\n",
        "# Check unique values in categorical columns\n",
        "print(\"\\nUnique values in categorical columns:\")\n",
        "categorical_cols = ['state', 'district', 'crop', 'season', 'soil_type', 'irrigation', 'seed_variety']\n",
        "for col in categorical_cols:\n",
        "    print(f\"{col}: {df[col].unique()}\")\n"
      ]
    },
    {
      "cell_type": "markdown",
      "metadata": {},
      "source": [
        "## 2. Data Preprocessing\n"
      ]
    },
    {
      "cell_type": "code",
      "execution_count": 5,
      "metadata": {},
      "outputs": [
        {
          "name": "stdout",
          "output_type": "stream",
          "text": [
            "Added normalized features:\n",
            "Fertilizer per ha - Mean: 1055144.50, Std: 911310.31\n",
            "Pesticide per ha - Mean: 2250.79, Std: 1943.97\n"
          ]
        }
      ],
      "source": [
        "# Create a copy for preprocessing\n",
        "df_processed = df.copy()\n",
        "\n",
        "# Normalize fertilizer and pesticide to per hectare\n",
        "df_processed['fertilizer_per_ha'] = df_processed['fertilizer'] / df_processed['area']\n",
        "df_processed['pesticide_per_ha'] = df_processed['pesticide'] / df_processed['area']\n",
        "\n",
        "print(\"Added normalized features:\")\n",
        "print(f\"Fertilizer per ha - Mean: {df_processed['fertilizer_per_ha'].mean():.2f}, Std: {df_processed['fertilizer_per_ha'].std():.2f}\")\n",
        "print(f\"Pesticide per ha - Mean: {df_processed['pesticide_per_ha'].mean():.2f}, Std: {df_processed['pesticide_per_ha'].std():.2f}\")\n"
      ]
    },
    {
      "cell_type": "code",
      "execution_count": 6,
      "metadata": {},
      "outputs": [
        {
          "name": "stdout",
          "output_type": "stream",
          "text": [
            "Feature matrix shape: (6233, 12)\n",
            "Target shape: (6233,)\n",
            "Numeric features: ['area', 'rainfall', 'temperature', 'fertilizer_per_ha', 'pesticide_per_ha']\n",
            "Categorical features: ['state', 'district', 'crop', 'season', 'soil_type', 'irrigation', 'seed_variety']\n"
          ]
        }
      ],
      "source": [
        "# Define feature columns\n",
        "numeric_features = ['area', 'rainfall', 'temperature', 'fertilizer_per_ha', 'pesticide_per_ha']\n",
        "categorical_features = ['state', 'district', 'crop', 'season', 'soil_type', 'irrigation', 'seed_variety']\n",
        "\n",
        "# Create feature matrix X and target y\n",
        "X = df_processed[numeric_features + categorical_features]\n",
        "y = df_processed['yield']\n",
        "\n",
        "print(f\"Feature matrix shape: {X.shape}\")\n",
        "print(f\"Target shape: {y.shape}\")\n",
        "print(f\"Numeric features: {numeric_features}\")\n",
        "print(f\"Categorical features: {categorical_features}\")\n"
      ]
    },
    {
      "cell_type": "code",
      "execution_count": 7,
      "metadata": {},
      "outputs": [
        {
          "name": "stdout",
          "output_type": "stream",
          "text": [
            "Preprocessing pipeline created successfully!\n"
          ]
        }
      ],
      "source": [
        "# Create preprocessing pipeline\n",
        "preprocessor = ColumnTransformer(\n",
        "    transformers=[\n",
        "        ('num', StandardScaler(), numeric_features),\n",
        "        ('cat', OneHotEncoder(drop='first', handle_unknown='ignore'), categorical_features)\n",
        "    ]\n",
        ")\n",
        "\n",
        "print(\"Preprocessing pipeline created successfully!\")\n"
      ]
    },
    {
      "cell_type": "markdown",
      "metadata": {},
      "source": [
        "## 3. Model Training and Evaluation\n"
      ]
    },
    {
      "cell_type": "code",
      "execution_count": 8,
      "metadata": {},
      "outputs": [
        {
          "name": "stdout",
          "output_type": "stream",
          "text": [
            "Training set: 5623 samples\n",
            "Test set: 610 samples\n"
          ]
        }
      ],
      "source": [
        "# Split data using time-based split (use year for temporal split)\n",
        "# Use 2020-2022 for training, 2023 for testing\n",
        "train_mask = df_processed['year'] <= 2022\n",
        "test_mask = df_processed['year'] > 2022\n",
        "\n",
        "X_train, X_test = X[train_mask], X[test_mask]\n",
        "y_train, y_test = y[train_mask], y[test_mask]\n",
        "\n",
        "print(f\"Training set: {X_train.shape[0]} samples\")\n",
        "print(f\"Test set: {X_test.shape[0]} samples\")\n"
      ]
    },
    {
      "cell_type": "code",
      "execution_count": 9,
      "metadata": {},
      "outputs": [
        {
          "name": "stdout",
          "output_type": "stream",
          "text": [
            "Model pipelines created!\n"
          ]
        }
      ],
      "source": [
        "# Create model pipelines\n",
        "rf_pipeline = Pipeline([\n",
        "    ('preprocessor', preprocessor),\n",
        "    ('regressor', RandomForestRegressor(n_estimators=100, random_state=42))\n",
        "])\n",
        "\n",
        "xgb_pipeline = Pipeline([\n",
        "    ('preprocessor', preprocessor),\n",
        "    ('regressor', xgb.XGBRegressor(n_estimators=100, random_state=42, verbosity=0))\n",
        "])\n",
        "\n",
        "print(\"Model pipelines created!\")\n"
      ]
    },
    {
      "cell_type": "code",
      "execution_count": 10,
      "metadata": {},
      "outputs": [
        {
          "name": "stdout",
          "output_type": "stream",
          "text": [
            "Training Random Forest...\n",
            "Training XGBoost...\n",
            "Training completed!\n"
          ]
        }
      ],
      "source": [
        "# Train models\n",
        "print(\"Training Random Forest...\")\n",
        "rf_pipeline.fit(X_train, y_train)\n",
        "\n",
        "print(\"Training XGBoost...\")\n",
        "xgb_pipeline.fit(X_train, y_train)\n",
        "\n",
        "print(\"Training completed!\")\n"
      ]
    },
    {
      "cell_type": "code",
      "execution_count": 11,
      "metadata": {},
      "outputs": [
        {
          "name": "stdout",
          "output_type": "stream",
          "text": [
            "\n",
            "Random Forest Performance:\n",
            "MAE: 1958.8303\n",
            "RMSE: 6152.1414\n",
            "R²: 0.9422\n",
            "\n",
            "XGBoost Performance:\n",
            "MAE: 2130.1155\n",
            "RMSE: 6572.2468\n",
            "R²: 0.9341\n"
          ]
        }
      ],
      "source": [
        "# Evaluate models\n",
        "def evaluate_model(model, X_test, y_test, model_name):\n",
        "    y_pred = model.predict(X_test)\n",
        "    \n",
        "    mae = mean_absolute_error(y_test, y_pred)\n",
        "    rmse = np.sqrt(mean_squared_error(y_test, y_pred))\n",
        "    r2 = r2_score(y_test, y_pred)\n",
        "    \n",
        "    print(f\"\\n{model_name} Performance:\")\n",
        "    print(f\"MAE: {mae:.4f}\")\n",
        "    print(f\"RMSE: {rmse:.4f}\")\n",
        "    print(f\"R²: {r2:.4f}\")\n",
        "    \n",
        "    return {'mae': mae, 'rmse': rmse, 'r2': r2, 'predictions': y_pred}\n",
        "\n",
        "# Evaluate both models\n",
        "rf_results = evaluate_model(rf_pipeline, X_test, y_test, \"Random Forest\")\n",
        "xgb_results = evaluate_model(xgb_pipeline, X_test, y_test, \"XGBoost\")\n"
      ]
    },
    {
      "cell_type": "code",
      "execution_count": 12,
      "metadata": {},
      "outputs": [
        {
          "name": "stdout",
          "output_type": "stream",
          "text": [
            "\n",
            "Best model: Random Forest (R² = 0.9422)\n"
          ]
        }
      ],
      "source": [
        "# Select best model based on R² score\n",
        "if rf_results['r2'] > xgb_results['r2']:\n",
        "    best_model = rf_pipeline\n",
        "    best_model_name = \"Random Forest\"\n",
        "    print(f\"\\nBest model: {best_model_name} (R² = {rf_results['r2']:.4f})\")\n",
        "else:\n",
        "    best_model = xgb_pipeline\n",
        "    best_model_name = \"XGBoost\"\n",
        "    print(f\"\\nBest model: {best_model_name} (R² = {xgb_results['r2']:.4f})\")\n"
      ]
    },
    {
      "cell_type": "markdown",
      "metadata": {},
      "source": [
        "## 4. Visualization and Feature Importance\n"
      ]
    },
    {
      "cell_type": "code",
      "execution_count": 13,
      "metadata": {},
      "outputs": [
        {
          "data": {
            "image/png": "[encoded data removed]",
            "text/plain": [
              "<Figure size 1000x600 with 1 Axes>"
            ]
          },
          "metadata": {},
          "output_type": "display_data"
        }
      ],
      "source": [
        "# Create predicted vs actual plot\n",
        "plt.figure(figsize=(10, 6))\n",
        "\n",
        "# Get predictions from best model\n",
        "y_pred_best = best_model.predict(X_test)\n",
        "\n",
        "plt.scatter(y_test, y_pred_best, alpha=0.7)\n",
        "plt.plot([y_test.min(), y_test.max()], [y_test.min(), y_test.max()], 'r--', lw=2)\n",
        "plt.xlabel('Actual Yield (t/ha)')\n",
        "plt.ylabel('Predicted Yield (t/ha)')\n",
        "plt.title(f'Predicted vs Actual Yield - {best_model_name}')\n",
        "plt.grid(True, alpha=0.3)\n",
        "\n",
        "# Add R² score to plot\n",
        "r2_score_val = r2_score(y_test, y_pred_best)\n",
        "plt.text(0.05, 0.95, f'R² = {r2_score_val:.4f}', transform=plt.gca().transAxes, \n",
        "         bbox=dict(boxstyle='round', facecolor='white', alpha=0.8))\n",
        "\n",
        "plt.tight_layout()\n",
        "plt.show()\n"
      ]
    },
    {
      "cell_type": "code",
      "execution_count": 15,
      "metadata": {},
      "outputs": [
        {
          "data": {
            "image/png": "[encoded data removed]",
            "text/plain": [
              "<Figure size 1200x800 with 1 Axes>"
            ]
          },
          "metadata": {},
          "output_type": "display_data"
        }
      ],
      "source": [
        "# Feature importance using SHAP (for tree-based models)\n",
        "if best_model_name == \"Random Forest\":\n",
        "    # For Random Forest, use built-in feature importance\n",
        "    feature_names = numeric_features + list(best_model.named_steps['preprocessor'].named_transformers_['cat'].get_feature_names_out(categorical_features))\n",
        "    importances = best_model.named_steps['regressor'].feature_importances_\n",
        "    \n",
        "    # Create feature importance plot\n",
        "    plt.figure(figsize=(12, 8))\n",
        "    indices = np.argsort(importances)[::-1][:15]  # Top 15 features\n",
        "    \n",
        "    plt.title('Feature Importance - Random Forest')\n",
        "    plt.barh(range(len(indices)), importances[indices])\n",
        "    plt.yticks(range(len(indices)), [feature_names[i] for i in indices])\n",
        "    plt.xlabel('Feature Importance')\n",
        "    plt.gca().invert_yaxis()\n",
        "    plt.tight_layout()\n",
        "    plt.show()\n",
        "    \n",
        "else:\n",
        "    # For XGBoost, use SHAP\n",
        "    try:\n",
        "        # Get transformed features\n",
        "        X_transformed = best_model.named_steps['preprocessor'].transform(X_test)\n",
        "        feature_names = numeric_features + list(best_model.named_steps['preprocessor'].named_transformers_['cat'].get_feature_names_out(categorical_features))\n",
        "        \n",
        "        # Create SHAP explainer\n",
        "        explainer = shap.TreeExplainer(best_model.named_steps['regressor'])\n",
        "        shap_values = explainer.shap_values(X_transformed)\n",
        "        \n",
        "        # Plot SHAP summary\n",
        "        plt.figure(figsize=(12, 8))\n",
        "        shap.summary_plot(shap_values, X_transformed, feature_names=feature_names, show=False)\n",
        "        plt.title('SHAP Feature Importance - XGBoost')\n",
        "        plt.tight_layout()\n",
        "        plt.show()\n",
        "        \n",
        "    except Exception as e:\n",
        "        print(f\"SHAP plot failed: {e}\")\n",
        "        print(\"Using built-in feature importance instead...\")\n",
        "        \n",
        "        # Fallback to built-in importance\n",
        "        feature_names = numeric_features + list(best_model.named_steps['preprocessor'].named_transformers_['cat'].get_feature_names_out(categorical_features))\n",
        "        importances = best_model.named_steps['regressor'].feature_importances_\n",
        "        \n",
        "        plt.figure(figsize=(12, 8))\n",
        "        indices = np.argsort(importances)[::-1][:15]\n",
        "        \n",
        "        plt.title('Feature Importance - XGBoost')\n",
        "        plt.barh(range(len(indices)), importances[indices])\n",
        "        plt.yticks(range(len(indices)), [feature_names[i] for i in indices])\n",
        "        plt.xlabel('Feature Importance')\n",
        "        plt.gca().invert_yaxis()\n",
        "        plt.tight_layout()\n",
        "        plt.show()\n"
      ]
    },
    {
      "cell_type": "markdown",
      "metadata": {},
      "source": [
        "## 5. Save Model and Feature List\n"
      ]
    },
    {
      "cell_type": "code",
      "execution_count": 16,
      "metadata": {},
      "outputs": [
        {
          "name": "stdout",
          "output_type": "stream",
          "text": [
            "Model saved to: ../src/ml/models/yield_model.pkl\n",
            "Feature list saved to: ../src/ml/models/feature_list.pkl\n",
            "\n",
            "Model training completed successfully!\n",
            "Best model: Random Forest\n",
            "Test R² score: 0.9422\n"
          ]
        }
      ],
      "source": [
        "# Save the best model\n",
        "model_path = '../src/ml/models/yield_model.pkl'\n",
        "joblib.dump(best_model, model_path)\n",
        "print(f\"Model saved to: {model_path}\")\n",
        "\n",
        "# Save feature information\n",
        "feature_info = {\n",
        "    'numeric_features': numeric_features,\n",
        "    'categorical_features': categorical_features,\n",
        "    'all_features': numeric_features + categorical_features,\n",
        "    'target_column': 'yield'\n",
        "}\n",
        "\n",
        "feature_list_path = '../src/ml/models/feature_list.pkl'\n",
        "joblib.dump(feature_info, feature_list_path)\n",
        "print(f\"Feature list saved to: {feature_list_path}\")\n",
        "\n",
        "print(f\"\\nModel training completed successfully!\")\n",
        "print(f\"Best model: {best_model_name}\")\n",
        "print(f\"Test R² score: {r2_score(y_test, best_model.predict(X_test)):.4f}\")\n"
      ]
    }
  ],
  "metadata": {
    "kernelspec": {
      "display_name": "venv",
      "language": "python",
      "name": "python3"
    },
    "language_info": {
      "codemirror_mode": {
        "name": "ipython",
        "version": 3
      },
      "file_extension": ".py",
      "mimetype": "text/x-python",
      "name": "python",
      "nbconvert_exporter": "python",
      "pygments_lexer": "ipython3",
      "version": "3.13.1"
    }
  },
  "nbformat": 4,
  "nbformat_minor": 2
}
